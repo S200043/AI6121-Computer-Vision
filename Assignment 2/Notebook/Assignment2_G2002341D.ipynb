{
 "cells": [
  {
   "cell_type": "markdown",
   "metadata": {},
   "source": [
    "# Assignment 2"
   ]
  },
  {
   "cell_type": "code",
   "execution_count": null,
   "metadata": {},
   "outputs": [],
   "source": [
    "import cv2 as cv\n",
    "import numpy as np\n",
    "import PIL.Image as Image\n",
    "from IPython.display import clear_output, Markdown\n",
    "\n",
    "corridor = [cv.imread('corridorl.jpg', cv.IMREAD_GRAYSCALE), cv.imread('corridorr.jpg', cv.IMREAD_GRAYSCALE)]\n",
    "triclopsi2 = [cv.imread('triclopsi2l.jpg', cv.IMREAD_GRAYSCALE), cv.imread('triclopsi2r.jpg', cv.IMREAD_GRAYSCALE)]"
   ]
  },
  {
   "cell_type": "code",
   "execution_count": null,
   "metadata": {},
   "outputs": [],
   "source": [
    "def computeDisparity(l, r, numDisparities, blockSize):\n",
    "  N = int((blockSize / 2))\n",
    "  lPadded = np.pad(l, N).astype(np.int)\n",
    "  rPadded = np.pad(r, N).astype(np.int)\n",
    "  lOut = np.zeros(l.shape, np.uint8)\n",
    "  rOut = np.zeros(r.shape, np.uint8)\n",
    "  lCrpd = np.zeros(l.shape, np.uint8)\n",
    "  for y in range(l.shape[0]):\n",
    "    if y % 10 == 0:\n",
    "      clear_output(True)\n",
    "      print('Progress: %d%%' % int(y/l.shape[0] * 100))\n",
    "\n",
    "    for lx in range(numDisparities, l.shape[1]):\n",
    "      # Extract block from left image\n",
    "      lBlock = np.array(lPadded[y:y+blockSize,lx:lx+blockSize])\n",
    "\n",
    "      # Extract blocks from right image for image correlation\n",
    "      # Assume no negative disparity and only search within range left of left image pixel specified by numDisparities(maximum disparity)\n",
    "      rBlocks = np.array([rPadded[np.arange(y,y+blockSize), rx:rx+blockSize] for rx in range(lx-numDisparities, lx+1)])\n",
    "\n",
    "      # Batch apply sum of squared differences for all right image pixels with left image pixel\n",
    "      similarity = np.array(np.sum((rBlocks-lBlock)**2, (1,2)))\n",
    "\n",
    "      # Compute disparity and matching right pixel coordinate\n",
    "      similarity = np.flip(similarity)\n",
    "      disparity = similarity.argmin()\n",
    "      #disparity = numDisparities - similarity.argmin()\n",
    "      rx = lx - disparity\n",
    "\n",
    "      # Normalize disparity to 8-bit range\n",
    "      nDisparity = np.uint8(disparity / numDisparities * 255)\n",
    "\n",
    "      lOut[y, lx] = nDisparity\n",
    "      rOut[y, rx] = nDisparity\n",
    "      lCrpd[y, lx] = rx\n",
    "\n",
    "  clear_output(True)\n",
    "  print('Progress: 100%')\n",
    "  return [lOut, rOut], lCrpd\n",
    "\n",
    "def computeDisparityRight(l, r, numDisparities, blockSize):\n",
    "  N = int((blockSize / 2))\n",
    "  lPadded = np.pad(l, N).astype(np.int)\n",
    "  rPadded = np.pad(r, N).astype(np.int)\n",
    "  lOut = np.zeros(l.shape, np.uint8)\n",
    "  rOut = np.zeros(r.shape, np.uint8)\n",
    "  rCrpd = np.zeros(r.shape, np.uint8)\n",
    "  for y in range(l.shape[0]):\n",
    "    if y % 10 == 0:\n",
    "      clear_output(True)\n",
    "      print('Progress: %d%%' % int(y/r.shape[0] * 100))\n",
    "\n",
    "    for rx in range(0, r.shape[1] - numDisparities):\n",
    "      # Extract block from right image\n",
    "      rBlock = np.array(rPadded[y:y+blockSize,rx:rx+blockSize])\n",
    "\n",
    "      # Extract blocks from left image for image correlation\n",
    "      # Assume no negative disparity and only search within range right of right image pixel specified by numDisparities(maximum disparity)\n",
    "      lBlocks = np.array([lPadded[np.arange(y,y+blockSize), lx:lx+blockSize] for lx in range(rx, rx+numDisparities+1)])\n",
    "\n",
    "      # Batch apply sum of squared differences for all left image pixels with right image pixel\n",
    "      similarity = np.array(np.sum((lBlocks-rBlock)**2, (1,2)))\n",
    "\n",
    "      # Compute disparity and matching right pixel coordinate\n",
    "      disparity = similarity.argmin()\n",
    "      lx = rx + disparity\n",
    "\n",
    "      # Normalize disparity to 8-bit range\n",
    "      nDisparity = np.uint8(disparity / numDisparities * 255)\n",
    "\n",
    "      lOut[y, lx] = nDisparity\n",
    "      rOut[y, rx] = nDisparity\n",
    "      rCrpd[y, rx] = lx\n",
    "\n",
    "  clear_output(True)\n",
    "  print('Progress: 100%')\n",
    "  return [lOut, rOut], rCrpd\n",
    "\n",
    "def occlusion_check(lcrpd, rcrpd, dp, numDisparities):\n",
    "  tmp_dp = dp.astype(np.uint16)\n",
    "  # If right corresponding pixel in left disparity map does not match left corresponding pixel in right disparity map, invalidate computed disparity\n",
    "  for y, lrow in enumerate(lcrpd):\n",
    "    for lx in range(numDisparities, len(lrow)):\n",
    "      if rcrpd[y, lrow[lx]] != lx:\n",
    "        tmp_dp[y, lx] = 256\n",
    "\n",
    "  # For all invalidated disparities, replace with the smallest neighbouring disparity i.e. disparity of background\n",
    "  for y, lrow in enumerate(tmp_dp):\n",
    "    for lx in range(numDisparities, len(lrow)):\n",
    "      if lrow[lx] == 256:\n",
    "        valid_dp = np.array([256, 256], np.int16)\n",
    "\n",
    "        idx = lx-1\n",
    "        while valid_dp[0] == 256 and idx >= 0:\n",
    "          if lrow[idx] != 256:\n",
    "            valid_dp[0] = lrow[idx]\n",
    "          idx -= 1\n",
    "\n",
    "        idx = lx+1\n",
    "        while valid_dp[1] == 256 and idx < len(lrow):\n",
    "          if lrow[idx] != 256:\n",
    "            valid_dp[1] = lrow[idx]\n",
    "          idx += 1\n",
    "\n",
    "        lrow[lx] = valid_dp.min()\n",
    "\n",
    "  return tmp_dp.astype(np.uint8)"
   ]
  },
  {
   "cell_type": "markdown",
   "metadata": {},
   "source": [
    "## Corridor"
   ]
  },
  {
   "cell_type": "code",
   "execution_count": null,
   "metadata": {},
   "outputs": [],
   "source": [
    "numDisparities = 10\n",
    "blockSize = 3\n",
    "\n",
    "corridor_PIL = [Image.fromarray(dp) for dp in corridor]\n",
    "display(Markdown('### Left View'))\n",
    "display(corridor_PIL[0])\n",
    "display(Markdown('### Right View'))\n",
    "display(corridor_PIL[1])"
   ]
  },
  {
   "cell_type": "code",
   "execution_count": null,
   "metadata": {},
   "outputs": [],
   "source": [
    "corridor_dp_l, corridor_lcrpd = computeDisparity(corridor[0], corridor[1], numDisparities, blockSize)\n",
    "corridor_PIL = [Image.fromarray(dp) for dp in corridor_dp_l]\n",
    "display(Markdown('### Left Disparity Map'))\n",
    "display(corridor_PIL[0])\n",
    "display(Markdown('### Right Correspondence'))\n",
    "display(corridor_PIL[1])"
   ]
  },
  {
   "cell_type": "code",
   "execution_count": null,
   "metadata": {},
   "outputs": [],
   "source": [
    "corridor_dp_r, corridor_rcrpd = computeDisparityRight(corridor[0], corridor[1], numDisparities, blockSize)\n",
    "corridor_PIL = [Image.fromarray(dp) for dp in corridor_dp_r]\n",
    "display(Markdown('### Left Correspondence'))\n",
    "display(corridor_PIL[0])\n",
    "display(Markdown('### Right Disparity Map'))\n",
    "display(corridor_PIL[1])"
   ]
  },
  {
   "cell_type": "code",
   "execution_count": null,
   "metadata": {},
   "outputs": [],
   "source": [
    "corridor_dp = [corridor_dp_l[0], corridor_dp_r[1]]\n",
    "corridor_PIL = [Image.fromarray(dp) for dp in corridor_dp]\n",
    "display(Markdown('### Left Disparity Map'))\n",
    "display(corridor_PIL[0])\n",
    "display(Markdown('### Right Disparity Map'))\n",
    "display(corridor_PIL[1])"
   ]
  },
  {
   "cell_type": "code",
   "execution_count": null,
   "metadata": {},
   "outputs": [],
   "source": [
    "occlude_dp = occlusion_check(corridor_lcrpd, corridor_rcrpd, corridor_dp[0], numDisparities)\n",
    "occlude_dp_filtered = cv.medianBlur(occlude_dp, 3)\n",
    "\n",
    "display(Markdown('### Original Disparity Map'))\n",
    "display(Image.fromarray(corridor_dp[0]))\n",
    "display(Markdown('### Occlusion Filling'))\n",
    "display(Image.fromarray(occlude_dp))\n",
    "display(Markdown('### Occlusion Filling + Median Filtering'))\n",
    "display(Image.fromarray(occlude_dp_filtered))"
   ]
  },
  {
   "cell_type": "markdown",
   "metadata": {},
   "source": [
    "## Triclopsi2"
   ]
  },
  {
   "cell_type": "code",
   "execution_count": null,
   "metadata": {},
   "outputs": [],
   "source": [
    "numDisparities = 10\n",
    "blockSize = 16\n",
    "\n",
    "triclopsi2_PIL = [Image.fromarray(dp) for dp in triclopsi2]\n",
    "display(Markdown('### Left View'))\n",
    "display(triclopsi2_PIL[0])\n",
    "display(Markdown('### Right View'))\n",
    "display(triclopsi2_PIL[1])"
   ]
  },
  {
   "cell_type": "code",
   "execution_count": null,
   "metadata": {},
   "outputs": [],
   "source": [
    "triclopsi2_dp_l, triclopsi2_lcrpd = computeDisparity(triclopsi2[0], triclopsi2[1], numDisparities, blockSize)\n",
    "triclopsi2_PIL = [Image.fromarray(dp) for dp in triclopsi2_dp_l]\n",
    "display(Markdown('### Left Disparity Map'))\n",
    "display(triclopsi2_PIL[0])\n",
    "display(Markdown('### Right Correspondence'))\n",
    "display(triclopsi2_PIL[1])"
   ]
  },
  {
   "cell_type": "code",
   "execution_count": null,
   "metadata": {},
   "outputs": [],
   "source": [
    "triclopsi2_dp_r, triclopsi2_rcrpd = computeDisparityRight(triclopsi2[0], triclopsi2[1], numDisparities, blockSize)\n",
    "triclopsi2_PIL = [Image.fromarray(dp) for dp in triclopsi2_dp_r]\n",
    "display(Markdown('### Left Correspondence'))\n",
    "display(triclopsi2_PIL[0])\n",
    "display(Markdown('### Right Disparity Map'))\n",
    "display(triclopsi2_PIL[1])"
   ]
  },
  {
   "cell_type": "code",
   "execution_count": null,
   "metadata": {},
   "outputs": [],
   "source": [
    "triclopsi2_dp = [triclopsi2_dp_l[0], triclopsi2_dp_r[1]]\n",
    "triclopsi2_PIL = [Image.fromarray(dp) for dp in triclopsi2_dp]\n",
    "display(Markdown('### Left Disparity Map'))\n",
    "display(triclopsi2_PIL[0])\n",
    "display(Markdown('### Right Disparity Map'))\n",
    "display(triclopsi2_PIL[1])"
   ]
  },
  {
   "cell_type": "code",
   "execution_count": null,
   "metadata": {},
   "outputs": [],
   "source": [
    "occlude_dp = occlusion_check(triclopsi2_lcrpd, triclopsi2_rcrpd, triclopsi2_dp[0], numDisparities)\n",
    "occlude_dp_filtered = cv.medianBlur(occlude_dp, 3)\n",
    "\n",
    "display(Markdown('### Original Disparity Map'))\n",
    "display(Image.fromarray(triclopsi2_dp[0]))\n",
    "display(Markdown('### Occlusion Filling'))\n",
    "display(Image.fromarray(occlude_dp))\n",
    "display(Markdown('### Occlusion Filling + Median Filtering'))\n",
    "display(Image.fromarray(occlude_dp_filtered))"
   ]
  }
 ],
 "metadata": {
  "kernelspec": {
   "display_name": "Python 3",
   "language": "python",
   "name": "python3"
  },
  "language_info": {
   "codemirror_mode": {
    "name": "ipython",
    "version": 3
   },
   "file_extension": ".py",
   "mimetype": "text/x-python",
   "name": "python",
   "nbconvert_exporter": "python",
   "pygments_lexer": "ipython3",
   "version": "3.8.5"
  }
 },
 "nbformat": 4,
 "nbformat_minor": 4
}
