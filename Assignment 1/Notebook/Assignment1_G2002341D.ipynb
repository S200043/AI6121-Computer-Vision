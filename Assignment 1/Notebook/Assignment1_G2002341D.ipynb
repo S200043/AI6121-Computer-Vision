{
 "cells": [
  {
   "cell_type": "markdown",
   "metadata": {},
   "source": [
    "# Assignment 1"
   ]
  },
  {
   "cell_type": "code",
   "execution_count": null,
   "metadata": {},
   "outputs": [],
   "source": [
    "import cv2\n",
    "import math\n",
    "import matplotlib as mpl\n",
    "import matplotlib.pyplot as plt\n",
    "import numpy as np\n",
    "import PIL.Image as Image\n",
    "from IPython.display import Markdown\n",
    "from scipy import stats"
   ]
  },
  {
   "cell_type": "markdown",
   "metadata": {},
   "source": [
    "### Parameters"
   ]
  },
  {
   "cell_type": "code",
   "execution_count": null,
   "metadata": {},
   "outputs": [],
   "source": [
    "im_count = 8   # Image Count\n",
    "bins = 256     # Numbers of Bins\n",
    "r_min = np.uint8(0)      # Minimum Intensity - Dynamic Range\n",
    "r_max = np.uint8(255)    # Maximum Intensity - Dynamic Range\n",
    "colorSpace = 'CIELAB' # Color space to perform equalization in: CIELAB or YCrCb.\n",
    "saveImages = True\n",
    "\n",
    "# Contrast Limited Adaptive Histogram Equalization Params\n",
    "win_size = 64 # Width/height of sliding window\n",
    "max_slope = 8 # Max slope of cdf, used for calculating clip value\n",
    "clip_tolerance = 1.0 # Tolerance between max histogram bin value vs clip value\n",
    "\n",
    "# matplotlib Params\n",
    "plotCharts = True\n",
    "tick_step = 5  # X-Axis Steps on Charts\n",
    "dpi = mpl.rcParams['figure.dpi'] # DPI used for matplotlib figure drawing"
   ]
  },
  {
   "cell_type": "markdown",
   "metadata": {},
   "source": [
    "### Load and display images"
   ]
  },
  {
   "cell_type": "code",
   "execution_count": null,
   "metadata": {},
   "outputs": [],
   "source": [
    "im = [0] * im_count\n",
    "\n",
    "for i in range(1, im_count + 1):\n",
    "  im[i - 1] = cv2.imread('sample' + '%.2d'%i + '.jpg', cv2.IMREAD_UNCHANGED)\n",
    "  if im[i - 1] is None:\n",
    "    im[i - 1] = cv2.imread('sample' + '%.2d'%i + '.jpeg', cv2.IMREAD_UNCHANGED)\n",
    "  im[i - 1] = cv2.cvtColor(im[i - 1], cv2.COLOR_BGR2RGB)"
   ]
  },
  {
   "cell_type": "code",
   "execution_count": null,
   "metadata": {},
   "outputs": [],
   "source": [
    "for i in im:\n",
    "  display(Image.fromarray(i))"
   ]
  },
  {
   "cell_type": "markdown",
   "metadata": {},
   "source": [
    "### Convert BGR to CIELAB/YCrCb and display lightness/luma channel"
   ]
  },
  {
   "cell_type": "code",
   "execution_count": null,
   "metadata": {},
   "outputs": [],
   "source": [
    "def displayIm(im, filename = \"\", save = False):\n",
    "  imPIL = Image.fromarray(im)\n",
    "  display(imPIL)\n",
    "  if save:\n",
    "    imPIL.save(filename)\n",
    "\n",
    "imLuma = [0] * im_count\n",
    "\n",
    "for i in range(len(im)):\n",
    "  if colorSpace == 'CIELAB':\n",
    "    im[i] = cv2.cvtColor(im[i], cv2.COLOR_RGB2LAB)\n",
    "  elif colorSpace == 'YCrCb':\n",
    "    im[i] = cv2.cvtColor(im[i], cv2.COLOR_RGB2YCrCb)\n",
    "  else:\n",
    "    print(\"Invalid colorSpace\")\n",
    "    break\n",
    "  imLuma[i] = im[i][:,:,0]"
   ]
  },
  {
   "cell_type": "code",
   "execution_count": null,
   "metadata": {},
   "outputs": [],
   "source": [
    "for i in range(len(imLuma)):\n",
    "  if colorSpace == 'CIELAB':\n",
    "    displayIm(imLuma[i], \"[LIGHTNESS]Sample\" + \"%.2d\"%(i+1) + \".png\", saveImages)\n",
    "  elif colorSpace == 'YCrCb':\n",
    "    displayIm(imLuma[i], \"[LUMA]Sample\" + \"%.2d\"%(i+1) + \".png\", saveImages)"
   ]
  },
  {
   "cell_type": "markdown",
   "metadata": {},
   "source": [
    "### Plot frequency and probability histograms"
   ]
  },
  {
   "cell_type": "code",
   "execution_count": null,
   "metadata": {},
   "outputs": [],
   "source": [
    "def histogram(im, bins):\n",
    "  freqHist = [0] * bins\n",
    "  probHist = [0] * bins\n",
    "  kdeBin = [0] * bins\n",
    "  imData = im.reshape(im.shape[0] * im.shape[1])\n",
    "  pixelCount = len(imData)\n",
    "  binSize = 256/bins\n",
    "  for pixelValue in imData:\n",
    "    freqHist[math.floor(pixelValue / binSize)] += 1\n",
    "  for i in range(bins):\n",
    "    probHist[i] = freqHist[i] / pixelCount\n",
    "\n",
    "  intensities = list(range(256))\n",
    "  kde = stats.gaussian_kde(imData)\n",
    "  kde = kde(intensities)\n",
    "  for i in range(256):\n",
    "    kdeBin[math.floor(i / binSize)] += kde[i]\n",
    "  return freqHist, probHist, kdeBin\n",
    "\n",
    "def plotHist(freqHist, probHist, kde, title, tick_step):\n",
    "  bins = list(range(len(freqHist)))\n",
    "  xTicks = list(range(0, len(freqHist), tick_step))\n",
    "  xlabel = r'Intensity, $r_k$'\n",
    "  ylabelFreq = r'Frequency, $n_k$'\n",
    "  ylabelProb = r'Probability, $p_r(r_k) = \\frac{n_k}{MN}$'\n",
    "  fontsize = 22\n",
    "  intensities = list(range(len(freqHist)))\n",
    "\n",
    "  figure, axes = plt.subplots(2, 1, figsize = (1280./dpi,640./dpi), tight_layout = True)\n",
    "\n",
    "  axes[0].bar(bins, freqHist, color = 'xkcd:light blue', width = 0.5)\n",
    "  axes[1].bar(bins, probHist, color = 'xkcd:light blue', width = 0.5)\n",
    "\n",
    "  axesFreqKde = axes[0].inset_axes([0,0,1,1])\n",
    "  axesFreqKde.plot(intensities, kde, color ='xkcd:orange')\n",
    "  axesFreqKde.patch.set_visible(False)\n",
    "  axesFreqKde.axis('off')\n",
    "  axesFreqKde.set_ylim(axes[1].get_ylim())\n",
    "  axesFreqKde.set_xlim(-0.5, len(freqHist) - 0.5)\n",
    "\n",
    "  axesProbKde = axes[1].inset_axes([0,0,1,1])\n",
    "  axesProbKde.plot(intensities, kde, color ='xkcd:orange')\n",
    "  axesProbKde.patch.set_visible(False)\n",
    "  axesProbKde.axis('off')\n",
    "  axesProbKde.set_ylim(axes[1].get_ylim())\n",
    "  axesProbKde.set_xlim(-0.5, len(freqHist) - 0.5)\n",
    "\n",
    "  for ax in axes:\n",
    "    ax.set_title(title, fontsize = fontsize, fontweight = 'bold')\n",
    "    ax.set_ylim(0)\n",
    "    ax.set_xlim(-0.5, len(freqHist) - 0.5)\n",
    "    ax.set_xlabel(xlabel, fontsize = fontsize)\n",
    "    ax.set_xticks(xTicks)\n",
    "    ax.spines['top'].set_visible(False)\n",
    "    ax.spines['right'].set_visible(False)\n",
    "  axes[0].set_ylabel(ylabelFreq, fontsize = fontsize)\n",
    "  axes[1].set_ylabel(ylabelProb, fontsize = fontsize)\n",
    "  figure.savefig(\"[HIST]\" + title + \".png\")\n",
    "  plt.show()"
   ]
  },
  {
   "cell_type": "code",
   "execution_count": null,
   "metadata": {},
   "outputs": [],
   "source": [
    "freqHist = [0] * len(im)\n",
    "probHist = [0] * len(im)\n",
    "kde = [0] * len(im)\n",
    "\n",
    "for i in range(len(im)):\n",
    "  freqHist[i], probHist[i], kde[i] = histogram(imLuma[i], bins)\n",
    "  if plotCharts: plotHist(freqHist[i], probHist[i], kde[i], \"Sample\" + \"%.2d\"%(i+1), tick_step)"
   ]
  },
  {
   "cell_type": "markdown",
   "metadata": {},
   "source": [
    "### Plot cumulative distribution function *w.r.t* probability of occurence pixel value *i*"
   ]
  },
  {
   "cell_type": "code",
   "execution_count": null,
   "metadata": {},
   "outputs": [],
   "source": [
    "def cdf(probHist):\n",
    "  cdf = []\n",
    "  cumul = 0\n",
    "  for i in probHist:\n",
    "    cumul += i\n",
    "    cdf.append(cumul)\n",
    "  return cdf\n",
    "\n",
    "def plotCdf(cdf, probHist, kde, title, tick_step, **kwargs):\n",
    "  intensities = list(range(len(cdf)))\n",
    "  xTicks = list(range(0, len(cdf), tick_step))\n",
    "  xlabel = r'Intensity, $r_k$'\n",
    "  ylabelCdf = r'$cdf_r(r_k)=\\sum_{j=0}^k p_r(r_j)$'\n",
    "  ylabelProb = r'Probability, $p_r(r_k) = \\frac{n_k}{MN}$'\n",
    "  fontsize = 22\n",
    "  if 'colorMap' in kwargs.keys():\n",
    "    if kwargs['colorMap'] == 'original':\n",
    "      color = list(str(i / 256) for i in range(0, 256, int(256 / len(cdf))))\n",
    "    else:\n",
    "      color = [str(transform / 256) for transform in kwargs['colorMap']]\n",
    "    edgecolor = 'xkcd:light grey'\n",
    "  else:\n",
    "    color = 'xkcd:light blue'\n",
    "    edgecolor = None\n",
    "\n",
    "  fig, ax = plt.subplots(figsize = (1280./dpi,640./dpi), tight_layout = True)\n",
    "  fig.suptitle(title, fontsize = fontsize, fontweight = 'bold')\n",
    "  ax2 = ax.twinx()\n",
    "  ax2.bar(intensities, probHist, color = color, edgecolor = edgecolor, width = 0.7)\n",
    "  ax2.plot(intensities, kde, color ='xkcd:orange')\n",
    "  ax2.set_ylabel(ylabelProb, fontsize = fontsize)\n",
    "  ax2.spines['top'].set_visible(False)\n",
    "  ax.plot(intensities, cdf, color ='xkcd:light red')\n",
    "  ax.set_ylim(0)\n",
    "  ax.set_xlim(-0.5, len(cdf) - 0.5)\n",
    "  ax.set_ylabel(ylabelCdf, fontsize = fontsize)\n",
    "  ax.set_xlabel(xlabel, fontsize = fontsize)\n",
    "  ax.set_xticks(xTicks)\n",
    "  ax.spines['top'].set_visible(False)\n",
    "  ax.set_zorder(1)\n",
    "  ax.patch.set_visible(False)\n",
    "  fig.savefig(\"[CDF]\" + title + \".png\")\n",
    "  plt.show()"
   ]
  },
  {
   "cell_type": "code",
   "execution_count": null,
   "metadata": {},
   "outputs": [],
   "source": [
    "probCdf = [0] * len(im)\n",
    "\n",
    "for i in range(len(im)):\n",
    "  probCdf[i] = cdf(probHist[i])\n",
    "  if plotCharts:\n",
    "    plotCdf(probCdf[i], probHist[i], kde[i], \"Sample\" + \"%.2d\"%(i+1), tick_step)"
   ]
  },
  {
   "cell_type": "markdown",
   "metadata": {},
   "source": [
    "### Perform histogram equalization based on $cdf_r(r_k)$"
   ]
  },
  {
   "cell_type": "code",
   "execution_count": null,
   "metadata": {},
   "outputs": [],
   "source": [
    "def histEq(im, cdf, bins, r_min, r_max):\n",
    "  r = r_max - r_min\n",
    "  binSize = 256/bins\n",
    "  outIm = np.zeros((im.shape[0], im.shape[1]), np.uint8)\n",
    "  transform = [0] * len(cdf)\n",
    "  for i in range(len(cdf)):\n",
    "    transform[i] = int(round((cdf[i] * r) + r_min))\n",
    "  for i in range(im.shape[0]):\n",
    "    for j in range(im.shape[1]):\n",
    "      outIm[i][j] = transform[math.floor(im[i][j] / binSize)]\n",
    "  return outIm, transform"
   ]
  },
  {
   "cell_type": "code",
   "execution_count": null,
   "metadata": {},
   "outputs": [],
   "source": [
    "eqImLuma = [0] * len(im)\n",
    "eqFreqHist = [0] * len(im)\n",
    "eqProbHist = [0] * len(im)\n",
    "eqKde = [0] * len(im)\n",
    "eqCdf = [0] * len(im)\n",
    "transformMap = [0] * len(im)\n",
    "\n",
    "for i in range(len(im)):\n",
    "  eqImLuma[i], transformMap[i] = histEq(imLuma[i], probCdf[i], bins, r_min, r_max)\n",
    "  if plotCharts:\n",
    "    eqFreqHist[i], eqProbHist[i], eqKde[i] = histogram(eqImLuma[i], bins)\n",
    "    eqCdf[i] = cdf(eqProbHist[i])\n",
    "    plotCdf(probCdf[i], probHist[i], kde[i], \"[COLOR TRANSFORM MAPPING]Sample\" + \"%.2d\"%(i+1), tick_step, colorMap = transformMap[i]) # Colors histogram bars with mapped transform intensities\n",
    "    plotCdf(probCdf[i], probHist[i], kde[i], \"[COLOR]Sample\" + \"%.2d\"%(i+1), tick_step, colorMap = 'original')  # Colors histogram bars with respective intensities\n",
    "    plotCdf(eqCdf[i], eqProbHist[i], eqKde[i], \"[COLOR][HE]Sample\" + \"%.2d\"%(i+1), tick_step, colorMap = 'original')\n",
    "    plotCdf(eqCdf[i], eqProbHist[i], eqKde[i], \"[HE]Sample\" + \"%.2d\"%(i+1), tick_step)"
   ]
  },
  {
   "cell_type": "markdown",
   "metadata": {},
   "source": [
    "### Merge equalized channel back into image"
   ]
  },
  {
   "cell_type": "code",
   "execution_count": null,
   "metadata": {},
   "outputs": [],
   "source": [
    "eqIm = [0] * len(im)\n",
    "\n",
    "for i in range(len(im)):\n",
    "  display(Markdown('### Sample %.2d'%(i+1)))\n",
    "  displayIm(imLuma[i])\n",
    "  if colorSpace == 'CIELAB':\n",
    "    displayIm(eqImLuma[i], \"[HE][LIGHTNESS]Sample\" + \"%.2d\"%(i+1) + \".png\", saveImages)\n",
    "    displayIm(cv2.cvtColor(im[i], cv2.COLOR_LAB2RGB))\n",
    "    eqIm[i] = cv2.merge((eqImLuma[i], im[i][:,:,1], im[i][:,:,2]))\n",
    "    eqIm[i] = cv2.cvtColor(eqIm[i], cv2.COLOR_LAB2RGB)\n",
    "    displayIm(eqIm[i], \"[HE][CIELAB]Sample\" + \"%.2d\"%(i+1) + \".png\", saveImages)\n",
    "  elif colorSpace == 'YCrCb':\n",
    "    displayIm(eqImLuma[i], \"[HE][LUMA]Sample\" + \"%.2d\"%(i+1) + \".png\", saveImages)\n",
    "    displayIm(cv2.cvtColor(im[i], cv2.COLOR_YCrCb2RGB))\n",
    "    eqIm[i] = cv2.merge((eqImLuma[i], im[i][:,:,1], im[i][:,:,2]))\n",
    "    eqIm[i] = cv2.cvtColor(eqIm[i], cv2.COLOR_YCrCb2RGB)\n",
    "    displayIm(eqIm[i], \"[HE][YCRCB]Sample\" + \"%.2d\"%(i+1) + \".png\", saveImages)\n",
    "  else:\n",
    "    print(\"Invalid colorSpace\")\n",
    "    break"
   ]
  },
  {
   "cell_type": "markdown",
   "metadata": {},
   "source": [
    "### Perform Linear Contrast Stretching"
   ]
  },
  {
   "cell_type": "code",
   "execution_count": null,
   "metadata": {},
   "outputs": [],
   "source": [
    "def lcs(im):\n",
    "  r_min_lcs = 255\n",
    "  r_max_lcs = 0\n",
    "  r_lcs = 0\n",
    "  outIm = np.zeros((im.shape[0], im.shape[1]), np.uint8)\n",
    "  for i in range(im.shape[0]):\n",
    "    for j in range(im.shape[1]):\n",
    "      r_min_lcs = im[i][j] if im[i][j] < r_min_lcs else r_min_lcs\n",
    "      r_max_lcs = im[i][j] if im[i][j] > r_max_lcs else r_max_lcs\n",
    "  r_lcs = r_max_lcs - r_min_lcs\n",
    "  for i in range(im.shape[0]):\n",
    "    for j in range(im.shape[1]):\n",
    "      outIm[i][j] = round(255 * (im[i][j] - r_min_lcs) / r_lcs)\n",
    "  return outIm"
   ]
  },
  {
   "cell_type": "code",
   "execution_count": null,
   "metadata": {},
   "outputs": [],
   "source": [
    "imLcs = [0] * len(im)\n",
    "lcsFreqHist = [0] * len(im)\n",
    "lcsProbHist = [0] * len(im)\n",
    "lcsKde = [0] * len(im)\n",
    "lcsProbCdf = [0] * len(im)\n",
    "\n",
    "for i in range(len(imLuma)):\n",
    "  imLcs[i] = lcs(imLuma[i])\n",
    "  displayIm(imLcs[i], \"[LCS]Sample\" + \"%.2d\"%(i+1) + \".png\", saveImages)\n",
    "  if plotCharts:\n",
    "    lcsFreqHist[i], lcsProbHist[i], lcsKde[i] = histogram(imLcs[i], 256)\n",
    "    lcsProbCdf[i] = cdf(lcsProbHist[i])\n",
    "    plotCdf(lcsProbCdf[i], lcsProbHist[i], lcsKde[i], \"[LCS]Sample\" + \"%.2d\"%(i+1), tick_step)"
   ]
  },
  {
   "cell_type": "markdown",
   "metadata": {},
   "source": [
    "### Perform Sliding Window Contrast Limited Adaptive Histogram Equalization"
   ]
  },
  {
   "cell_type": "code",
   "execution_count": null,
   "metadata": {},
   "outputs": [],
   "source": [
    "def clahe_transform(imOut, imIn, im_x, im_y, freqHist, pixelCount, max_slope, clip_tolerance):\n",
    "  freqHistClip = freqHist.astype(np.float64)\n",
    "  clipValue = pixelCount/256 * max_slope\n",
    "\n",
    "  while (np.amax(freqHistClip) - clipValue) > clip_tolerance:\n",
    "    clipSum = 0\n",
    "    for i in range(256):\n",
    "      if freqHistClip[i] > clipValue:\n",
    "        clipSum += freqHistClip[i] - clipValue\n",
    "        freqHistClip[i] = clipValue\n",
    "    freqHistClip = freqHistClip + (clipSum / 256)\n",
    "\n",
    "  cHist = 0\n",
    "  iPixel = imIn[im_y][im_x]\n",
    "  if (iPixel <= 128):\n",
    "    for i in range(iPixel + 1):\n",
    "      cHist += freqHistClip[i]\n",
    "  else:\n",
    "    for i in range(iPixel + 1, 256):\n",
    "      cHist += freqHistClip[i]\n",
    "    cHist = pixelCount - cHist\n",
    "  imOut[im_y][im_x] = round((cHist/pixelCount) * 255)\n",
    "\n",
    "def clahe(im, win_size, max_slope, clip_tolerance):\n",
    "  pixelCount = win_size**2\n",
    "  shift = int(math.log2((win_size**2)/256))\n",
    "\n",
    "  imPadded = np.pad(im, int(win_size/2), mode = 'symmetric')\n",
    "  imNew = np.zeros([im.shape[0],im.shape[1]], np.uint8)\n",
    "  freqHist = np.zeros(256, np.uint32)\n",
    "\n",
    "  for im_y in range(im.shape[0]):\n",
    "    if im_y == 0:\n",
    "      # Initialize freqHist with histogram at top-left pixel original image\n",
    "      for windowRow in imPadded[1:win_size+1, 1:win_size+1]:\n",
    "        for pixelValue in windowRow:\n",
    "          freqHist[pixelValue] += 1\n",
    "    else:\n",
    "      # Subtract trailing row\n",
    "      for pixelValue in imPadded[im_y, 1:win_size+1]:\n",
    "        freqHist[pixelValue] -= 1\n",
    "      # Add leading row\n",
    "      for pixelValue in imPadded[win_size+im_y, 1:win_size+1]:\n",
    "        freqHist[pixelValue] += 1\n",
    "\n",
    "    # Perform HE mapping\n",
    "    clahe_transform(imNew, im, 0, im_y, freqHist, pixelCount, max_slope, clip_tolerance)\n",
    "\n",
    "    freqHistX = np.copy(freqHist)\n",
    "    for im_x in range(1, im.shape[1]):\n",
    "      # Subtract trailing column\n",
    "      for pixelValue in imPadded[im_y+1:im_y+win_size+1, im_x]:\n",
    "        freqHistX[pixelValue] -= 1\n",
    "      # Add leading column\n",
    "      for pixelValue in imPadded[im_y+1:im_y+win_size+1, im_x+win_size]:\n",
    "        freqHistX[pixelValue] += 1\n",
    "      # Perform HE mapping\n",
    "      clahe_transform(imNew, im, im_x, im_y, freqHistX, pixelCount, max_slope, clip_tolerance)\n",
    "  return imNew"
   ]
  },
  {
   "cell_type": "code",
   "execution_count": null,
   "metadata": {},
   "outputs": [],
   "source": [
    "imCLAHE = [0] * len(im)\n",
    "claheFreqHist = [0] * len(im)\n",
    "claheProbHist = [0] * len(im)\n",
    "claheKde = [0] * len(im)\n",
    "claheProbCdf = [0] * len(im)\n",
    "\n",
    "for i in range(len(imLuma)):\n",
    "  imCLAHE[i] = clahe(imLuma[i], win_size, max_slope, clip_tolerance)\n",
    "  displayIm(imCLAHE[i], \"[CLAHE]Sample\" + \"%.2d\"%(i+1) + \".png\", saveImages)\n",
    "  if plotCharts:\n",
    "    claheFreqHist[i], claheProbHist[i], claheKde[i] = histogram(imCLAHE[i], 256)\n",
    "    claheProbCdf[i] = cdf(claheProbHist[i])\n",
    "    plotCdf(claheProbCdf[i], claheProbHist[i], claheKde[i], \"[CLAHE]Sample\" + \"%.2d\"%(i+1), tick_step)"
   ]
  }
 ],
 "metadata": {
  "kernelspec": {
   "display_name": "Python 3",
   "language": "python",
   "name": "python3"
  },
  "language_info": {
   "codemirror_mode": {
    "name": "ipython",
    "version": 3
   },
   "file_extension": ".py",
   "mimetype": "text/x-python",
   "name": "python",
   "nbconvert_exporter": "python",
   "pygments_lexer": "ipython3",
   "version": "3.8.5"
  }
 },
 "nbformat": 4,
 "nbformat_minor": 4
}
